{
 "cells": [
  {
   "cell_type": "markdown",
   "metadata": {},
   "source": [
    "# Sentiment Analysis"
   ]
  },
  {
   "cell_type": "markdown",
   "metadata": {},
   "source": [
    "## Text Blob"
   ]
  },
  {
   "cell_type": "code",
   "execution_count": 1,
   "metadata": {},
   "outputs": [],
   "source": [
    "# Import pandas for data frame\n",
    "import pandas as pd"
   ]
  },
  {
   "cell_type": "code",
   "execution_count": 2,
   "metadata": {},
   "outputs": [
    {
     "data": {
      "text/html": [
       "<div>\n",
       "<style scoped>\n",
       "    .dataframe tbody tr th:only-of-type {\n",
       "        vertical-align: middle;\n",
       "    }\n",
       "\n",
       "    .dataframe tbody tr th {\n",
       "        vertical-align: top;\n",
       "    }\n",
       "\n",
       "    .dataframe thead th {\n",
       "        text-align: right;\n",
       "    }\n",
       "</style>\n",
       "<table border=\"1\" class=\"dataframe\">\n",
       "  <thead>\n",
       "    <tr style=\"text-align: right;\">\n",
       "      <th></th>\n",
       "      <th>raw_text</th>\n",
       "    </tr>\n",
       "  </thead>\n",
       "  <tbody>\n",
       "    <tr>\n",
       "      <th>0</th>\n",
       "      <td>ooo careful homer</td>\n",
       "    </tr>\n",
       "    <tr>\n",
       "      <th>1</th>\n",
       "      <td>theres no time to be careful</td>\n",
       "    </tr>\n",
       "    <tr>\n",
       "      <th>2</th>\n",
       "      <td>were late</td>\n",
       "    </tr>\n",
       "    <tr>\n",
       "      <th>3</th>\n",
       "      <td>hushed voice sorry excuse us pardon me</td>\n",
       "    </tr>\n",
       "    <tr>\n",
       "      <th>4</th>\n",
       "      <td>simultaneously hey norman hows it going so yo...</td>\n",
       "    </tr>\n",
       "  </tbody>\n",
       "</table>\n",
       "</div>"
      ],
      "text/plain": [
       "                                            raw_text\n",
       "0                                  ooo careful homer\n",
       "1                       theres no time to be careful\n",
       "2                                          were late\n",
       "3             hushed voice sorry excuse us pardon me\n",
       "4   simultaneously hey norman hows it going so yo..."
      ]
     },
     "execution_count": 2,
     "metadata": {},
     "output_type": "execute_result"
    }
   ],
   "source": [
    "# Read in cleaned .csv file and convert to data frame\n",
    "simpsons_script = pd.read_csv(\"simpsons_df_fixed.csv\")['raw_text']\n",
    "simpsons_script = simpsons_script.to_frame()\n",
    "simpsons_script.head()"
   ]
  },
  {
   "cell_type": "code",
   "execution_count": 3,
   "metadata": {},
   "outputs": [],
   "source": [
    "# Import library for TextBlob sentiment calculator\n",
    "import textblob\n",
    "from textblob import TextBlob"
   ]
  },
  {
   "cell_type": "code",
   "execution_count": 4,
   "metadata": {},
   "outputs": [],
   "source": [
    "# Calculate sentiment for each line and create column for values\n",
    "simpsons_script['TB_Sentiment'] = [TextBlob(word).sentiment.polarity for word in simpsons_script.raw_text]"
   ]
  },
  {
   "cell_type": "code",
   "execution_count": 5,
   "metadata": {},
   "outputs": [
    {
     "data": {
      "text/html": [
       "<div>\n",
       "<style scoped>\n",
       "    .dataframe tbody tr th:only-of-type {\n",
       "        vertical-align: middle;\n",
       "    }\n",
       "\n",
       "    .dataframe tbody tr th {\n",
       "        vertical-align: top;\n",
       "    }\n",
       "\n",
       "    .dataframe thead th {\n",
       "        text-align: right;\n",
       "    }\n",
       "</style>\n",
       "<table border=\"1\" class=\"dataframe\">\n",
       "  <thead>\n",
       "    <tr style=\"text-align: right;\">\n",
       "      <th></th>\n",
       "      <th>raw_text</th>\n",
       "      <th>TB_Sentiment</th>\n",
       "    </tr>\n",
       "  </thead>\n",
       "  <tbody>\n",
       "    <tr>\n",
       "      <th>40560</th>\n",
       "      <td>hes planning something evil i know it it must...</td>\n",
       "      <td>-1.0</td>\n",
       "    </tr>\n",
       "    <tr>\n",
       "      <th>103899</th>\n",
       "      <td>confessing i didnt make this terrible model m...</td>\n",
       "      <td>-1.0</td>\n",
       "    </tr>\n",
       "    <tr>\n",
       "      <th>18563</th>\n",
       "      <td>you look terrible</td>\n",
       "      <td>-1.0</td>\n",
       "    </tr>\n",
       "    <tr>\n",
       "      <th>103835</th>\n",
       "      <td>wiseguy son you buy an awful lot of airplane ...</td>\n",
       "      <td>-1.0</td>\n",
       "    </tr>\n",
       "    <tr>\n",
       "      <th>71458</th>\n",
       "      <td>i come to deliver a terrifying message of hop...</td>\n",
       "      <td>-1.0</td>\n",
       "    </tr>\n",
       "  </tbody>\n",
       "</table>\n",
       "</div>"
      ],
      "text/plain": [
       "                                                 raw_text  TB_Sentiment\n",
       "40560    hes planning something evil i know it it must...          -1.0\n",
       "103899   confessing i didnt make this terrible model m...          -1.0\n",
       "18563                                   you look terrible          -1.0\n",
       "103835   wiseguy son you buy an awful lot of airplane ...          -1.0\n",
       "71458    i come to deliver a terrifying message of hop...          -1.0"
      ]
     },
     "execution_count": 5,
     "metadata": {},
     "output_type": "execute_result"
    }
   ],
   "source": [
    "# View lowest-scored sentiment lines\n",
    "simpsons_script.sort_values('TB_Sentiment').head()"
   ]
  },
  {
   "cell_type": "code",
   "execution_count": 11,
   "metadata": {},
   "outputs": [
    {
     "data": {
      "text/html": [
       "<div>\n",
       "<style scoped>\n",
       "    .dataframe tbody tr th:only-of-type {\n",
       "        vertical-align: middle;\n",
       "    }\n",
       "\n",
       "    .dataframe tbody tr th {\n",
       "        vertical-align: top;\n",
       "    }\n",
       "\n",
       "    .dataframe thead th {\n",
       "        text-align: right;\n",
       "    }\n",
       "</style>\n",
       "<table border=\"1\" class=\"dataframe\">\n",
       "  <thead>\n",
       "    <tr style=\"text-align: right;\">\n",
       "      <th></th>\n",
       "      <th>raw_text</th>\n",
       "      <th>TB_Sentiment</th>\n",
       "    </tr>\n",
       "  </thead>\n",
       "  <tbody>\n",
       "    <tr>\n",
       "      <th>42353</th>\n",
       "      <td>impressed whistle whaddya suppose the rent is...</td>\n",
       "      <td>1.0</td>\n",
       "    </tr>\n",
       "    <tr>\n",
       "      <th>55244</th>\n",
       "      <td>marge this is the greatest gift any wife has ...</td>\n",
       "      <td>1.0</td>\n",
       "    </tr>\n",
       "    <tr>\n",
       "      <th>20568</th>\n",
       "      <td>singing its the greatest show in townnnnn gabbo</td>\n",
       "      <td>1.0</td>\n",
       "    </tr>\n",
       "    <tr>\n",
       "      <th>107620</th>\n",
       "      <td>impressed you dont fight like a girl or even ...</td>\n",
       "      <td>1.0</td>\n",
       "    </tr>\n",
       "    <tr>\n",
       "      <th>103626</th>\n",
       "      <td>milhouse real best friends often dont speak f...</td>\n",
       "      <td>1.0</td>\n",
       "    </tr>\n",
       "  </tbody>\n",
       "</table>\n",
       "</div>"
      ],
      "text/plain": [
       "                                                 raw_text  TB_Sentiment\n",
       "42353    impressed whistle whaddya suppose the rent is...           1.0\n",
       "55244    marge this is the greatest gift any wife has ...           1.0\n",
       "20568     singing its the greatest show in townnnnn gabbo           1.0\n",
       "107620   impressed you dont fight like a girl or even ...           1.0\n",
       "103626   milhouse real best friends often dont speak f...           1.0"
      ]
     },
     "execution_count": 11,
     "metadata": {},
     "output_type": "execute_result"
    }
   ],
   "source": [
    "# View lowest-scored sentiment lines\n",
    "simpsons_script.sort_values('TB_Sentiment').tail()"
   ]
  },
  {
   "cell_type": "code",
   "execution_count": 12,
   "metadata": {},
   "outputs": [],
   "source": [
    "# Import statistics package for mean\n",
    "import statistics"
   ]
  },
  {
   "cell_type": "code",
   "execution_count": 13,
   "metadata": {},
   "outputs": [
    {
     "data": {
      "text/plain": [
       "0.04613147576653909"
      ]
     },
     "execution_count": 13,
     "metadata": {},
     "output_type": "execute_result"
    }
   ],
   "source": [
    "# Calculate the mean sentiment\n",
    "statistics.mean(simpsons_script.TB_Sentiment)"
   ]
  },
  {
   "cell_type": "markdown",
   "metadata": {},
   "source": [
    "## VADER"
   ]
  },
  {
   "cell_type": "code",
   "execution_count": 14,
   "metadata": {},
   "outputs": [
    {
     "name": "stderr",
     "output_type": "stream",
     "text": [
      "[nltk_data] Downloading package vader_lexicon to\n",
      "[nltk_data]     /Users/AthenaXiourouppa/nltk_data...\n",
      "[nltk_data]   Package vader_lexicon is already up-to-date!\n"
     ]
    }
   ],
   "source": [
    "# Import library for VADER\n",
    "import nltk\n",
    "nltk.download('vader_lexicon')\n",
    "from nltk.sentiment.vader import SentimentIntensityAnalyzer"
   ]
  },
  {
   "cell_type": "code",
   "execution_count": 15,
   "metadata": {},
   "outputs": [],
   "source": [
    "# Assign sentiment analyser as VADER\n",
    "vader = SentimentIntensityAnalyzer()"
   ]
  },
  {
   "cell_type": "code",
   "execution_count": 16,
   "metadata": {},
   "outputs": [],
   "source": [
    "# Calculate sentiment for each line and append to data frame\n",
    "simpsons_script['VADER_Sentiment'] = [vader.polarity_scores(word) for word in simpsons_script.raw_text]"
   ]
  },
  {
   "cell_type": "code",
   "execution_count": 17,
   "metadata": {},
   "outputs": [],
   "source": [
    "# Isolate compound value\n",
    "simpsons_script['VADER Compound Score'] = [simpsons_script.iloc[i].VADER_Sentiment['compound'] for i in range(len(simpsons_script))]"
   ]
  },
  {
   "cell_type": "code",
   "execution_count": 18,
   "metadata": {},
   "outputs": [
    {
     "data": {
      "text/html": [
       "<div>\n",
       "<style scoped>\n",
       "    .dataframe tbody tr th:only-of-type {\n",
       "        vertical-align: middle;\n",
       "    }\n",
       "\n",
       "    .dataframe tbody tr th {\n",
       "        vertical-align: top;\n",
       "    }\n",
       "\n",
       "    .dataframe thead th {\n",
       "        text-align: right;\n",
       "    }\n",
       "</style>\n",
       "<table border=\"1\" class=\"dataframe\">\n",
       "  <thead>\n",
       "    <tr style=\"text-align: right;\">\n",
       "      <th></th>\n",
       "      <th>raw_text</th>\n",
       "      <th>TB_Sentiment</th>\n",
       "      <th>VADER_Sentiment</th>\n",
       "      <th>VADER Compound Score</th>\n",
       "    </tr>\n",
       "  </thead>\n",
       "  <tbody>\n",
       "    <tr>\n",
       "      <th>6643</th>\n",
       "      <td>singsongy hell hell hell hell hell hell hell ...</td>\n",
       "      <td>0.000000</td>\n",
       "      <td>{'neg': 0.984, 'neu': 0.016, 'pos': 0.0, 'comp...</td>\n",
       "      <td>-0.9966</td>\n",
       "    </tr>\n",
       "    <tr>\n",
       "      <th>84692</th>\n",
       "      <td>kill the rat kill the rat kill the rat kill t...</td>\n",
       "      <td>0.000000</td>\n",
       "      <td>{'neg': 0.701, 'neu': 0.299, 'pos': 0.0, 'comp...</td>\n",
       "      <td>-0.9933</td>\n",
       "    </tr>\n",
       "    <tr>\n",
       "      <th>95223</th>\n",
       "      <td>furious where the hell is abigail adams oh th...</td>\n",
       "      <td>0.285714</td>\n",
       "      <td>{'neg': 0.525, 'neu': 0.475, 'pos': 0.0, 'comp...</td>\n",
       "      <td>-0.9884</td>\n",
       "    </tr>\n",
       "    <tr>\n",
       "      <th>69084</th>\n",
       "      <td>stubbornly dead dead dead dead dead dead</td>\n",
       "      <td>-0.200000</td>\n",
       "      <td>{'neg': 1.0, 'neu': 0.0, 'pos': 0.0, 'compound...</td>\n",
       "      <td>-0.9837</td>\n",
       "    </tr>\n",
       "    <tr>\n",
       "      <th>27570</th>\n",
       "      <td>fight fight fight fight fight fight fight fig...</td>\n",
       "      <td>0.000000</td>\n",
       "      <td>{'neg': 1.0, 'neu': 0.0, 'pos': 0.0, 'compound...</td>\n",
       "      <td>-0.9831</td>\n",
       "    </tr>\n",
       "  </tbody>\n",
       "</table>\n",
       "</div>"
      ],
      "text/plain": [
       "                                                raw_text  TB_Sentiment  \\\n",
       "6643    singsongy hell hell hell hell hell hell hell ...      0.000000   \n",
       "84692   kill the rat kill the rat kill the rat kill t...      0.000000   \n",
       "95223   furious where the hell is abigail adams oh th...      0.285714   \n",
       "69084           stubbornly dead dead dead dead dead dead     -0.200000   \n",
       "27570   fight fight fight fight fight fight fight fig...      0.000000   \n",
       "\n",
       "                                         VADER_Sentiment  VADER Compound Score  \n",
       "6643   {'neg': 0.984, 'neu': 0.016, 'pos': 0.0, 'comp...               -0.9966  \n",
       "84692  {'neg': 0.701, 'neu': 0.299, 'pos': 0.0, 'comp...               -0.9933  \n",
       "95223  {'neg': 0.525, 'neu': 0.475, 'pos': 0.0, 'comp...               -0.9884  \n",
       "69084  {'neg': 1.0, 'neu': 0.0, 'pos': 0.0, 'compound...               -0.9837  \n",
       "27570  {'neg': 1.0, 'neu': 0.0, 'pos': 0.0, 'compound...               -0.9831  "
      ]
     },
     "execution_count": 18,
     "metadata": {},
     "output_type": "execute_result"
    }
   ],
   "source": [
    "# View lowest-scored sentiment lines\n",
    "simpsons_script.sort_values('VADER Compound Score').head()"
   ]
  },
  {
   "cell_type": "code",
   "execution_count": 42,
   "metadata": {},
   "outputs": [
    {
     "data": {
      "text/html": [
       "<div>\n",
       "<style scoped>\n",
       "    .dataframe tbody tr th:only-of-type {\n",
       "        vertical-align: middle;\n",
       "    }\n",
       "\n",
       "    .dataframe tbody tr th {\n",
       "        vertical-align: top;\n",
       "    }\n",
       "\n",
       "    .dataframe thead th {\n",
       "        text-align: right;\n",
       "    }\n",
       "</style>\n",
       "<table border=\"1\" class=\"dataframe\">\n",
       "  <thead>\n",
       "    <tr style=\"text-align: right;\">\n",
       "      <th></th>\n",
       "      <th>raw_text</th>\n",
       "      <th>TB_Sentiment</th>\n",
       "      <th>VADER_Sentiment</th>\n",
       "      <th>VADER Compound Score</th>\n",
       "    </tr>\n",
       "  </thead>\n",
       "  <tbody>\n",
       "    <tr>\n",
       "      <th>5651</th>\n",
       "      <td>singing they love  they share  they share and...</td>\n",
       "      <td>0.500000</td>\n",
       "      <td>{'neg': 0.046, 'neu': 0.199, 'pos': 0.755, 'co...</td>\n",
       "      <td>0.9850</td>\n",
       "    </tr>\n",
       "    <tr>\n",
       "      <th>7433</th>\n",
       "      <td>youre my best friend laughs youre my best fri...</td>\n",
       "      <td>1.000000</td>\n",
       "      <td>{'neg': 0.0, 'neu': 0.159, 'pos': 0.841, 'comp...</td>\n",
       "      <td>0.9859</td>\n",
       "    </tr>\n",
       "    <tr>\n",
       "      <th>104521</th>\n",
       "      <td>sexily and sexy heroic heroic sexily sexy her...</td>\n",
       "      <td>0.609091</td>\n",
       "      <td>{'neg': 0.0, 'neu': 0.201, 'pos': 0.799, 'comp...</td>\n",
       "      <td>0.9859</td>\n",
       "    </tr>\n",
       "    <tr>\n",
       "      <th>92871</th>\n",
       "      <td>laugh it up with christ and krusty  ha ha ha ...</td>\n",
       "      <td>0.300000</td>\n",
       "      <td>{'neg': 0.0, 'neu': 0.217, 'pos': 0.783, 'comp...</td>\n",
       "      <td>0.9904</td>\n",
       "    </tr>\n",
       "    <tr>\n",
       "      <th>73584</th>\n",
       "      <td>vengeful god  loving god vengeful god  loving...</td>\n",
       "      <td>0.600000</td>\n",
       "      <td>{'neg': 0.0, 'neu': 0.216, 'pos': 0.784, 'comp...</td>\n",
       "      <td>0.9926</td>\n",
       "    </tr>\n",
       "  </tbody>\n",
       "</table>\n",
       "</div>"
      ],
      "text/plain": [
       "                                                 raw_text  TB_Sentiment  \\\n",
       "5651     singing they love  they share  they share and...      0.500000   \n",
       "7433     youre my best friend laughs youre my best fri...      1.000000   \n",
       "104521   sexily and sexy heroic heroic sexily sexy her...      0.609091   \n",
       "92871    laugh it up with christ and krusty  ha ha ha ...      0.300000   \n",
       "73584    vengeful god  loving god vengeful god  loving...      0.600000   \n",
       "\n",
       "                                          VADER_Sentiment  \\\n",
       "5651    {'neg': 0.046, 'neu': 0.199, 'pos': 0.755, 'co...   \n",
       "7433    {'neg': 0.0, 'neu': 0.159, 'pos': 0.841, 'comp...   \n",
       "104521  {'neg': 0.0, 'neu': 0.201, 'pos': 0.799, 'comp...   \n",
       "92871   {'neg': 0.0, 'neu': 0.217, 'pos': 0.783, 'comp...   \n",
       "73584   {'neg': 0.0, 'neu': 0.216, 'pos': 0.784, 'comp...   \n",
       "\n",
       "        VADER Compound Score  \n",
       "5651                  0.9850  \n",
       "7433                  0.9859  \n",
       "104521                0.9859  \n",
       "92871                 0.9904  \n",
       "73584                 0.9926  "
      ]
     },
     "execution_count": 42,
     "metadata": {},
     "output_type": "execute_result"
    }
   ],
   "source": [
    "# View highest-scored sentiment lines\n",
    "simpsons_script.sort_values('VADER Compound Score').tail()"
   ]
  },
  {
   "cell_type": "code",
   "execution_count": null,
   "metadata": {},
   "outputs": [],
   "source": []
  }
 ],
 "metadata": {
  "kernelspec": {
   "display_name": "Python 3",
   "language": "python",
   "name": "python3"
  },
  "language_info": {
   "codemirror_mode": {
    "name": "ipython",
    "version": 3
   },
   "file_extension": ".py",
   "mimetype": "text/x-python",
   "name": "python",
   "nbconvert_exporter": "python",
   "pygments_lexer": "ipython3",
   "version": "3.8.5"
  }
 },
 "nbformat": 4,
 "nbformat_minor": 4
}
