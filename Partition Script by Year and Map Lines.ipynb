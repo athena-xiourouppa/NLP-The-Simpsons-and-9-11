{
 "cells": [
  {
   "cell_type": "markdown",
   "metadata": {},
   "source": [
    "# Partition Script by Year and Map Lines"
   ]
  },
  {
   "cell_type": "markdown",
   "metadata": {},
   "source": [
    "## Repeat data cleaning to keep ID"
   ]
  },
  {
   "cell_type": "code",
   "execution_count": 1,
   "metadata": {},
   "outputs": [],
   "source": [
    "# Import pandas for data frame\n",
    "import pandas as pd"
   ]
  },
  {
   "cell_type": "code",
   "execution_count": 2,
   "metadata": {},
   "outputs": [
    {
     "data": {
      "text/html": [
       "<div>\n",
       "<style scoped>\n",
       "    .dataframe tbody tr th:only-of-type {\n",
       "        vertical-align: middle;\n",
       "    }\n",
       "\n",
       "    .dataframe tbody tr th {\n",
       "        vertical-align: top;\n",
       "    }\n",
       "\n",
       "    .dataframe thead th {\n",
       "        text-align: right;\n",
       "    }\n",
       "</style>\n",
       "<table border=\"1\" class=\"dataframe\">\n",
       "  <thead>\n",
       "    <tr style=\"text-align: right;\">\n",
       "      <th></th>\n",
       "      <th>raw_text</th>\n",
       "    </tr>\n",
       "  </thead>\n",
       "  <tbody>\n",
       "    <tr>\n",
       "      <th>0</th>\n",
       "      <td>ooo careful homer</td>\n",
       "    </tr>\n",
       "    <tr>\n",
       "      <th>1</th>\n",
       "      <td>theres no time to be careful</td>\n",
       "    </tr>\n",
       "    <tr>\n",
       "      <th>2</th>\n",
       "      <td>were late</td>\n",
       "    </tr>\n",
       "    <tr>\n",
       "      <th>3</th>\n",
       "      <td>hushed voice sorry excuse us pardon me</td>\n",
       "    </tr>\n",
       "    <tr>\n",
       "      <th>4</th>\n",
       "      <td>simultaneously hey norman hows it going so yo...</td>\n",
       "    </tr>\n",
       "  </tbody>\n",
       "</table>\n",
       "</div>"
      ],
      "text/plain": [
       "                                            raw_text\n",
       "0                                  ooo careful homer\n",
       "1                       theres no time to be careful\n",
       "2                                          were late\n",
       "3             hushed voice sorry excuse us pardon me\n",
       "4   simultaneously hey norman hows it going so yo..."
      ]
     },
     "execution_count": 2,
     "metadata": {},
     "output_type": "execute_result"
    }
   ],
   "source": [
    "# Read in cleaned .csv file and convert to data frame\n",
    "simpsons_script = pd.read_csv(\"simpsons_df_fixed.csv\")['raw_text']\n",
    "simpsons_script = simpsons_script.to_frame()\n",
    "simpsons_script.head()"
   ]
  },
  {
   "cell_type": "code",
   "execution_count": 3,
   "metadata": {},
   "outputs": [
    {
     "name": "stderr",
     "output_type": "stream",
     "text": [
      "/opt/anaconda3/lib/python3.8/site-packages/IPython/core/interactiveshell.py:3418: DtypeWarning: Columns (4,5,6) have mixed types.Specify dtype option on import or set low_memory=False.\n",
      "  exec(code_obj, self.user_global_ns, self.user_ns)\n"
     ]
    }
   ],
   "source": [
    "# Import raw .csv file, sort by ID and resetting index\n",
    "ss_raw = pd.read_csv(\"The Simpsons Data/simpsons_script_lines.csv\")\n",
    "ss_raw = ss_raw.sort_values(by = ['id'])\n",
    "ss_raw = ss_raw.reset_index()"
   ]
  },
  {
   "cell_type": "code",
   "execution_count": 4,
   "metadata": {},
   "outputs": [],
   "source": [
    "# Remove non-spoken lines\n",
    "ss_raw = ss_raw[ss_raw.speaking_line.isin([\"true\", True])]"
   ]
  },
  {
   "cell_type": "code",
   "execution_count": 5,
   "metadata": {},
   "outputs": [],
   "source": [
    "# Extract episode ID\n",
    "ss_raw = ss_raw.reset_index()\n",
    "ss_raw = ss_raw['episode_id']"
   ]
  },
  {
   "cell_type": "code",
   "execution_count": 6,
   "metadata": {},
   "outputs": [],
   "source": [
    "# Append to main data frame of cleaned text\n",
    "simpsons_script['Episode_ID'] = ss_raw"
   ]
  },
  {
   "cell_type": "code",
   "execution_count": 7,
   "metadata": {},
   "outputs": [],
   "source": [
    "# Read in episode data\n",
    "episodes = pd.read_csv(\"The Simpsons Data/simpsons_episodes.csv\")"
   ]
  },
  {
   "cell_type": "code",
   "execution_count": 8,
   "metadata": {},
   "outputs": [],
   "source": [
    "# Filter out years\n",
    "episodes = episodes[['id','original_air_date','original_air_year']]"
   ]
  },
  {
   "cell_type": "code",
   "execution_count": 9,
   "metadata": {},
   "outputs": [
    {
     "data": {
      "text/html": [
       "<div>\n",
       "<style scoped>\n",
       "    .dataframe tbody tr th:only-of-type {\n",
       "        vertical-align: middle;\n",
       "    }\n",
       "\n",
       "    .dataframe tbody tr th {\n",
       "        vertical-align: top;\n",
       "    }\n",
       "\n",
       "    .dataframe thead th {\n",
       "        text-align: right;\n",
       "    }\n",
       "</style>\n",
       "<table border=\"1\" class=\"dataframe\">\n",
       "  <thead>\n",
       "    <tr style=\"text-align: right;\">\n",
       "      <th></th>\n",
       "      <th>id</th>\n",
       "      <th>original_air_date</th>\n",
       "      <th>original_air_year</th>\n",
       "    </tr>\n",
       "  </thead>\n",
       "  <tbody>\n",
       "    <tr>\n",
       "      <th>241</th>\n",
       "      <td>1</td>\n",
       "      <td>1989-12-17</td>\n",
       "      <td>1989</td>\n",
       "    </tr>\n",
       "    <tr>\n",
       "      <th>242</th>\n",
       "      <td>2</td>\n",
       "      <td>1990-01-14</td>\n",
       "      <td>1990</td>\n",
       "    </tr>\n",
       "    <tr>\n",
       "      <th>550</th>\n",
       "      <td>3</td>\n",
       "      <td>1990-01-21</td>\n",
       "      <td>1990</td>\n",
       "    </tr>\n",
       "    <tr>\n",
       "      <th>243</th>\n",
       "      <td>4</td>\n",
       "      <td>1990-01-28</td>\n",
       "      <td>1990</td>\n",
       "    </tr>\n",
       "    <tr>\n",
       "      <th>525</th>\n",
       "      <td>5</td>\n",
       "      <td>1990-02-04</td>\n",
       "      <td>1990</td>\n",
       "    </tr>\n",
       "  </tbody>\n",
       "</table>\n",
       "</div>"
      ],
      "text/plain": [
       "     id original_air_date  original_air_year\n",
       "241   1        1989-12-17               1989\n",
       "242   2        1990-01-14               1990\n",
       "550   3        1990-01-21               1990\n",
       "243   4        1990-01-28               1990\n",
       "525   5        1990-02-04               1990"
      ]
     },
     "execution_count": 9,
     "metadata": {},
     "output_type": "execute_result"
    }
   ],
   "source": [
    "# Sort by ID\n",
    "episodes = episodes.sort_values(by = ['id'])\n",
    "episodes.head()"
   ]
  },
  {
   "cell_type": "code",
   "execution_count": 10,
   "metadata": {},
   "outputs": [],
   "source": [
    "# Create dictionary of episode ID to year\n",
    "id_year = pd.Series(episodes.original_air_year.values, index = episodes.id).to_dict()"
   ]
  },
  {
   "cell_type": "code",
   "execution_count": 11,
   "metadata": {},
   "outputs": [
    {
     "data": {
      "text/html": [
       "<div>\n",
       "<style scoped>\n",
       "    .dataframe tbody tr th:only-of-type {\n",
       "        vertical-align: middle;\n",
       "    }\n",
       "\n",
       "    .dataframe tbody tr th {\n",
       "        vertical-align: top;\n",
       "    }\n",
       "\n",
       "    .dataframe thead th {\n",
       "        text-align: right;\n",
       "    }\n",
       "</style>\n",
       "<table border=\"1\" class=\"dataframe\">\n",
       "  <thead>\n",
       "    <tr style=\"text-align: right;\">\n",
       "      <th></th>\n",
       "      <th>raw_text</th>\n",
       "      <th>Episode_ID</th>\n",
       "      <th>Year</th>\n",
       "    </tr>\n",
       "  </thead>\n",
       "  <tbody>\n",
       "    <tr>\n",
       "      <th>0</th>\n",
       "      <td>ooo careful homer</td>\n",
       "      <td>1</td>\n",
       "      <td>1989</td>\n",
       "    </tr>\n",
       "    <tr>\n",
       "      <th>1</th>\n",
       "      <td>theres no time to be careful</td>\n",
       "      <td>1</td>\n",
       "      <td>1989</td>\n",
       "    </tr>\n",
       "    <tr>\n",
       "      <th>2</th>\n",
       "      <td>were late</td>\n",
       "      <td>1</td>\n",
       "      <td>1989</td>\n",
       "    </tr>\n",
       "    <tr>\n",
       "      <th>3</th>\n",
       "      <td>hushed voice sorry excuse us pardon me</td>\n",
       "      <td>1</td>\n",
       "      <td>1989</td>\n",
       "    </tr>\n",
       "    <tr>\n",
       "      <th>4</th>\n",
       "      <td>simultaneously hey norman hows it going so yo...</td>\n",
       "      <td>1</td>\n",
       "      <td>1989</td>\n",
       "    </tr>\n",
       "  </tbody>\n",
       "</table>\n",
       "</div>"
      ],
      "text/plain": [
       "                                            raw_text  Episode_ID  Year\n",
       "0                                  ooo careful homer           1  1989\n",
       "1                       theres no time to be careful           1  1989\n",
       "2                                          were late           1  1989\n",
       "3             hushed voice sorry excuse us pardon me           1  1989\n",
       "4   simultaneously hey norman hows it going so yo...           1  1989"
      ]
     },
     "execution_count": 11,
     "metadata": {},
     "output_type": "execute_result"
    }
   ],
   "source": [
    "# Append to data frame\n",
    "simpsons_script['Year'] = simpsons_script['Episode_ID'].map(id_year)\n",
    "simpsons_script.head()"
   ]
  },
  {
   "cell_type": "code",
   "execution_count": 12,
   "metadata": {},
   "outputs": [
    {
     "name": "stderr",
     "output_type": "stream",
     "text": [
      "[nltk_data] Downloading package vader_lexicon to\n",
      "[nltk_data]     /Users/AthenaXiourouppa/nltk_data...\n",
      "[nltk_data]   Package vader_lexicon is already up-to-date!\n"
     ]
    }
   ],
   "source": [
    "# Import library for VADER\n",
    "import nltk\n",
    "nltk.download('vader_lexicon')\n",
    "from nltk.sentiment.vader import SentimentIntensityAnalyzer"
   ]
  },
  {
   "cell_type": "code",
   "execution_count": 13,
   "metadata": {},
   "outputs": [],
   "source": [
    "# Assign sentiment analyser as VADER\n",
    "vader = SentimentIntensityAnalyzer()"
   ]
  },
  {
   "cell_type": "code",
   "execution_count": 14,
   "metadata": {},
   "outputs": [],
   "source": [
    "# Calculate sentiment for each line and append to data frame\n",
    "simpsons_script['VADER_Sentiment'] = [vader.polarity_scores(word) for word in simpsons_script.raw_text]"
   ]
  },
  {
   "cell_type": "code",
   "execution_count": 15,
   "metadata": {},
   "outputs": [],
   "source": [
    "# Isolate compound value\n",
    "simpsons_script['VADER_Compound_Score'] = [simpsons_script.iloc[i].VADER_Sentiment['compound'] for i in range(len(simpsons_script))]"
   ]
  },
  {
   "cell_type": "code",
   "execution_count": 16,
   "metadata": {},
   "outputs": [],
   "source": [
    "# Create empty dictionary\n",
    "simpsons_byyear = {elem: pd.DataFrame for elem in episodes.original_air_year.unique()}"
   ]
  },
  {
   "cell_type": "code",
   "execution_count": 17,
   "metadata": {},
   "outputs": [],
   "source": [
    "# Create separate dataframes for each year\n",
    "for key in simpsons_byyear.keys():\n",
    "    simpsons_byyear[key] = simpsons_script[:][simpsons_script.Year == key]"
   ]
  },
  {
   "cell_type": "markdown",
   "metadata": {},
   "source": [
    "## Analyse Each Year"
   ]
  },
  {
   "cell_type": "code",
   "execution_count": 18,
   "metadata": {},
   "outputs": [
    {
     "name": "stderr",
     "output_type": "stream",
     "text": [
      "[nltk_data] Downloading package wordnet to\n",
      "[nltk_data]     /Users/AthenaXiourouppa/nltk_data...\n",
      "[nltk_data]   Package wordnet is already up-to-date!\n"
     ]
    },
    {
     "data": {
      "text/plain": [
       "True"
      ]
     },
     "execution_count": 18,
     "metadata": {},
     "output_type": "execute_result"
    }
   ],
   "source": [
    "# Import relevant gensim and NLTK packages\n",
    "import gensim\n",
    "from gensim.utils import simple_preprocess\n",
    "from gensim.parsing.preprocessing import STOPWORDS\n",
    "\n",
    "import nltk\n",
    "from nltk import word_tokenize\n",
    "from nltk.stem import WordNetLemmatizer, SnowballStemmer\n",
    "from nltk.stem.porter import *\n",
    "nltk.download('wordnet')"
   ]
  },
  {
   "cell_type": "code",
   "execution_count": 19,
   "metadata": {},
   "outputs": [],
   "source": [
    "# Preprocessing function\n",
    "def preprocess_nostem(text):\n",
    "    # Initialise array\n",
    "    result = []\n",
    "    # Remove stopwords\n",
    "    for token in gensim.utils.simple_preprocess(text):\n",
    "        if token not in gensim.parsing.preprocessing.STOPWORDS and len(token) > 3:\n",
    "            result.append(token)\n",
    "    return result"
   ]
  },
  {
   "cell_type": "code",
   "execution_count": 20,
   "metadata": {},
   "outputs": [],
   "source": [
    "# Create empty dictionary\n",
    "simpsons_byyear_tokenized = {elem: pd.DataFrame for elem in episodes.original_air_year.unique()}"
   ]
  },
  {
   "cell_type": "code",
   "execution_count": 21,
   "metadata": {},
   "outputs": [],
   "source": [
    "# Iterate through data frames, remove stopwords, grammar\n",
    "for key in simpsons_byyear_tokenized.keys():\n",
    "    ss_year = simpsons_byyear[key]['raw_text']\n",
    "    ss_year = str(ss_year)\n",
    "    ss_year = re.sub(r'[^\\w\\s]','',ss_year)\n",
    "    ss_year = preprocess_nostem(ss_year)\n",
    "    simpsons_byyear_tokenized[key] = ss_year"
   ]
  },
  {
   "cell_type": "code",
   "execution_count": 22,
   "metadata": {},
   "outputs": [],
   "source": [
    "# Import frequency distribution\n",
    "from nltk.probability import FreqDist"
   ]
  },
  {
   "cell_type": "code",
   "execution_count": 23,
   "metadata": {},
   "outputs": [],
   "source": [
    "# Create empty dictionary for top words\n",
    "simpsons_byyear_fdist = {elem: pd.DataFrame for elem in episodes.original_air_year.unique()}"
   ]
  },
  {
   "cell_type": "code",
   "execution_count": 24,
   "metadata": {},
   "outputs": [
    {
     "data": {
      "text/plain": [
       "[[('homer', 3)],\n",
       " [('come', 1)],\n",
       " [('calling', 1)],\n",
       " [('money', 2)],\n",
       " [('homer', 3)],\n",
       " [('thats', 3)],\n",
       " [('like', 2)],\n",
       " [('thats', 2)],\n",
       " [('laughs', 2)],\n",
       " [('waiting', 2)],\n",
       " [('whatchu', 2)],\n",
       " [('camel', 2)],\n",
       " [('pony', 3)],\n",
       " [('accustomed', 3)],\n",
       " [('sing', 3)],\n",
       " [('thats', 1)],\n",
       " [('party', 3)],\n",
       " [('grumply', 6)],\n",
       " [('arent', 2)],\n",
       " [('urgent', 2)],\n",
       " [('youre', 2)],\n",
       " [('love', 1)],\n",
       " [('dodgeball', 1)],\n",
       " [('grumpy', 1)],\n",
       " [('learn', 2)],\n",
       " [('birth', 3)],\n",
       " [('monotone', 2)],\n",
       " [('series', 1)]]"
      ]
     },
     "execution_count": 24,
     "metadata": {},
     "output_type": "execute_result"
    }
   ],
   "source": [
    "# Append most common word per year into dictionary and view\n",
    "common_byyear = []\n",
    "\n",
    "for key in simpsons_byyear_fdist.keys():\n",
    "    simpsons_byyear_fdist[key] = FreqDist(simpsons_byyear_tokenized[key])\n",
    "    common_byyear.append(simpsons_byyear_fdist[key].most_common(1))\n",
    "\n",
    "common_byyear"
   ]
  },
  {
   "cell_type": "code",
   "execution_count": 25,
   "metadata": {},
   "outputs": [],
   "source": [
    "# Create dictionary of Line ID to year\n",
    "line_year = pd.Series(simpsons_script.Year, index = simpsons_script.index).to_dict()"
   ]
  },
  {
   "cell_type": "code",
   "execution_count": 26,
   "metadata": {},
   "outputs": [
    {
     "name": "stdout",
     "output_type": "stream",
     "text": [
      "Stored 'line_year' (dict)\n"
     ]
    }
   ],
   "source": [
    "# Store dictionary for lines in other notebooks\n",
    "%store line_year"
   ]
  },
  {
   "cell_type": "code",
   "execution_count": 27,
   "metadata": {},
   "outputs": [],
   "source": [
    "# Import statistics package for year\n",
    "import statistics"
   ]
  },
  {
   "cell_type": "code",
   "execution_count": 28,
   "metadata": {},
   "outputs": [
    {
     "data": {
      "text/plain": [
       "[0.10565195195195196,\n",
       " 0.07282366270430907,\n",
       " 0.08201716089254257,\n",
       " 0.0660776514478593,\n",
       " 0.05251227895887145,\n",
       " 0.060003253796095446,\n",
       " 0.05079534069013838,\n",
       " 0.07763019943019943,\n",
       " 0.061417038571883964,\n",
       " 0.05463854833277198,\n",
       " 0.0662208947885939,\n",
       " 0.06473461397058823,\n",
       " 0.061074614305750355,\n",
       " 0.04984109775019395,\n",
       " 0.07370469597754911,\n",
       " 0.05987945324365372,\n",
       " 0.05552559502664298,\n",
       " 0.05295683117983478,\n",
       " 0.039897443000213084,\n",
       " 0.06966641585151744,\n",
       " 0.062003139980824545,\n",
       " 0.06036471694564604,\n",
       " 0.06588222314737718,\n",
       " 0.04866196162046908,\n",
       " 0.06368547652070537,\n",
       " 0.05539960267670431,\n",
       " 0.08780974493132766]"
      ]
     },
     "execution_count": 28,
     "metadata": {},
     "output_type": "execute_result"
    }
   ],
   "source": [
    "# Create vector of average yearly sentiment and view\n",
    "sentiment_avg_byyear = []\n",
    "\n",
    "for key in simpsons_byyear.keys():\n",
    "    yearly_sentiment_column = simpsons_byyear[key]['VADER_Compound_Score']\n",
    "    if len(yearly_sentiment_column) > 0:\n",
    "        sentiment_avg_byyear.append(statistics.mean(yearly_sentiment_column))\n",
    "        \n",
    "sentiment_avg_byyear"
   ]
  },
  {
   "cell_type": "code",
   "execution_count": 29,
   "metadata": {},
   "outputs": [],
   "source": [
    "# Import matplotlib for plotting\n",
    "import matplotlib.pyplot as plt"
   ]
  },
  {
   "cell_type": "code",
   "execution_count": 31,
   "metadata": {},
   "outputs": [
    {
     "data": {
      "image/png": "[encoded data removed]",
      "text/plain": [
       "<Figure size 432x288 with 1 Axes>"
      ]
     },
     "metadata": {
      "needs_background": "light"
     },
     "output_type": "display_data"
    }
   ],
   "source": [
    "plt.plot(range(1989,2016), sentiment_avg_byyear)\n",
    "\n",
    "# Axis labels and legend\n",
    "plt.xlabel(\"Year\")\n",
    "plt.ylabel(\"Average Sentiment\")\n",
    "\n",
    "# Save figure\n",
    "plt.savefig('sentiment_year_avg.png')\n",
    "plt.show()"
   ]
  },
  {
   "cell_type": "code",
   "execution_count": null,
   "metadata": {},
   "outputs": [],
   "source": []
  }
 ],
 "metadata": {
  "kernelspec": {
   "display_name": "Python 3",
   "language": "python",
   "name": "python3"
  },
  "language_info": {
   "codemirror_mode": {
    "name": "ipython",
    "version": 3
   },
   "file_extension": ".py",
   "mimetype": "text/x-python",
   "name": "python",
   "nbconvert_exporter": "python",
   "pygments_lexer": "ipython3",
   "version": "3.8.5"
  }
 },
 "nbformat": 4,
 "nbformat_minor": 4
}
