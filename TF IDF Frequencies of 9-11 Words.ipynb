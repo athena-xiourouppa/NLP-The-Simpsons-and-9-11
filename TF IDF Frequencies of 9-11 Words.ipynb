{
 "cells": [
  {
   "cell_type": "markdown",
   "metadata": {},
   "source": [
    "# TF-IDF for 9/11 Report and Speech Compared to General Corpus"
   ]
  },
  {
   "cell_type": "code",
   "execution_count": 1,
   "metadata": {},
   "outputs": [],
   "source": [
    "# Load in filtered speech and report tokens\n",
    "%store -r commission_nohtml_filtered\n",
    "%store -r bush_nohtml_filtered"
   ]
  },
  {
   "cell_type": "code",
   "execution_count": 2,
   "metadata": {},
   "outputs": [],
   "source": [
    "# Load in Moby Dick from Gutenberg corpus\n",
    "import nltk\n",
    "moby = nltk.corpus.gutenberg.words('melville-moby_dick.txt')"
   ]
  },
  {
   "cell_type": "markdown",
   "metadata": {},
   "source": [
    "## Clean Moby Dick file"
   ]
  },
  {
   "cell_type": "code",
   "execution_count": 3,
   "metadata": {},
   "outputs": [],
   "source": [
    "# Load in stop words and regex for substitution\n",
    "from nltk.corpus import stopwords\n",
    "stop_words = set(stopwords.words('english'))\n",
    "\n",
    "import re"
   ]
  },
  {
   "cell_type": "code",
   "execution_count": 4,
   "metadata": {},
   "outputs": [],
   "source": [
    "# Remove stop words, grammar, make lowercase\n",
    "moby_filtered = []\n",
    " \n",
    "for w in moby:\n",
    "    w = re.sub(r'[^\\w\\s]','',w)\n",
    "    if w not in stop_words:\n",
    "        moby_filtered.append(w.lower())"
   ]
  },
  {
   "cell_type": "code",
   "execution_count": 5,
   "metadata": {},
   "outputs": [],
   "source": [
    "# Remove empty strings\n",
    "while(\"\" in moby_filtered) :\n",
    "    moby_filtered.remove(\"\")"
   ]
  },
  {
   "cell_type": "code",
   "execution_count": 6,
   "metadata": {},
   "outputs": [],
   "source": [
    "# Import tokenizer\n",
    "from nltk import word_tokenize"
   ]
  },
  {
   "cell_type": "code",
   "execution_count": 7,
   "metadata": {},
   "outputs": [],
   "source": [
    "# Tokenize\n",
    "moby_tokens = []\n",
    "\n",
    "for w in moby_filtered:\n",
    "    moby_tokens.append(word_tokenize(str(w)))"
   ]
  },
  {
   "cell_type": "code",
   "execution_count": 8,
   "metadata": {},
   "outputs": [],
   "source": [
    "# Import frequency distribution\n",
    "from nltk.probability import FreqDist"
   ]
  },
  {
   "cell_type": "code",
   "execution_count": 9,
   "metadata": {},
   "outputs": [
    {
     "data": {
      "text/plain": [
       "[('i', 2124),\n",
       " ('whale', 1226),\n",
       " ('one', 921),\n",
       " ('the', 710),\n",
       " ('but', 705),\n",
       " ('like', 647),\n",
       " ('upon', 566),\n",
       " ('man', 527),\n",
       " ('ship', 518),\n",
       " ('ahab', 511),\n",
       " ('ye', 472),\n",
       " ('sea', 455),\n",
       " ('old', 450),\n",
       " ('would', 432),\n",
       " ('and', 406),\n",
       " ('though', 384),\n",
       " ('head', 345),\n",
       " ('yet', 345),\n",
       " ('boat', 336),\n",
       " ('time', 334)]"
      ]
     },
     "execution_count": 9,
     "metadata": {},
     "output_type": "execute_result"
    }
   ],
   "source": [
    "# Calculate word frequencies and print top 20\n",
    "moby_fdist = FreqDist(moby_filtered)\n",
    "moby_fdist.most_common(20)"
   ]
  },
  {
   "cell_type": "code",
   "execution_count": 10,
   "metadata": {},
   "outputs": [],
   "source": [
    "# Import gensim for dictionary\n",
    "import gensim"
   ]
  },
  {
   "cell_type": "code",
   "execution_count": 11,
   "metadata": {},
   "outputs": [],
   "source": [
    "# Create dictionary and BOW\n",
    "dictionary_moby = gensim.corpora.Dictionary(moby_tokens)\n",
    "bow_moby = [dictionary_moby.doc2bow(w) for w in moby_tokens]"
   ]
  },
  {
   "cell_type": "markdown",
   "metadata": {},
   "source": [
    "## TF-IDF of Bush Speech"
   ]
  },
  {
   "cell_type": "code",
   "execution_count": 12,
   "metadata": {},
   "outputs": [],
   "source": [
    "# Import SKlearn for TFIDF\n",
    "import sklearn\n",
    "from sklearn.feature_extraction.text import TfidfVectorizer"
   ]
  },
  {
   "cell_type": "code",
   "execution_count": 13,
   "metadata": {},
   "outputs": [],
   "source": [
    "# Perform TF-IDF \n",
    "tfidf = TfidfVectorizer()\n",
    "vecs = tfidf.fit_transform([str(bush_nohtml_filtered), str(moby_filtered)])"
   ]
  },
  {
   "cell_type": "code",
   "execution_count": 15,
   "metadata": {},
   "outputs": [
    {
     "data": {
      "text/plain": [
       "array([[1.        , 0.15675144],\n",
       "       [0.15675144, 1.        ]])"
      ]
     },
     "execution_count": 15,
     "metadata": {},
     "output_type": "execute_result"
    }
   ],
   "source": [
    "# Print correlation matrix\n",
    "corr_matrix = ((vecs * vecs.T).A)\n",
    "corr_matrix"
   ]
  },
  {
   "cell_type": "code",
   "execution_count": 16,
   "metadata": {},
   "outputs": [],
   "source": [
    "# Import collections and pandas for data frame\n",
    "from collections import Counter\n",
    "import pandas as pd"
   ]
  },
  {
   "cell_type": "code",
   "execution_count": 20,
   "metadata": {},
   "outputs": [],
   "source": [
    "# Create data frame of TF-IDF vocabulary\n",
    "columns = [k for (v, k) in sorted((v, k)\n",
    "           for k, v in tfidf.vocabulary_.items())]\n",
    "tfidfs = pd.DataFrame(vecs.todense(),\n",
    "                      columns=columns)"
   ]
  },
  {
   "cell_type": "code",
   "execution_count": 21,
   "metadata": {},
   "outputs": [
    {
     "data": {
      "text/html": [
       "<div>\n",
       "<style scoped>\n",
       "    .dataframe tbody tr th:only-of-type {\n",
       "        vertical-align: middle;\n",
       "    }\n",
       "\n",
       "    .dataframe tbody tr th {\n",
       "        vertical-align: top;\n",
       "    }\n",
       "\n",
       "    .dataframe thead th {\n",
       "        text-align: right;\n",
       "    }\n",
       "</style>\n",
       "<table border=\"1\" class=\"dataframe\">\n",
       "  <thead>\n",
       "    <tr style=\"text-align: right;\">\n",
       "      <th></th>\n",
       "      <th>0</th>\n",
       "      <th>1</th>\n",
       "    </tr>\n",
       "  </thead>\n",
       "  <tbody>\n",
       "    <tr>\n",
       "      <th>applause</th>\n",
       "      <td>0.448445</td>\n",
       "      <td>0.000000</td>\n",
       "    </tr>\n",
       "    <tr>\n",
       "      <th>terrorists</th>\n",
       "      <td>0.201027</td>\n",
       "      <td>0.000000</td>\n",
       "    </tr>\n",
       "    <tr>\n",
       "      <th>tonight</th>\n",
       "      <td>0.201027</td>\n",
       "      <td>0.000000</td>\n",
       "    </tr>\n",
       "    <tr>\n",
       "      <th>world</th>\n",
       "      <td>0.187042</td>\n",
       "      <td>0.038269</td>\n",
       "    </tr>\n",
       "    <tr>\n",
       "      <th>america</th>\n",
       "      <td>0.176040</td>\n",
       "      <td>0.002609</td>\n",
       "    </tr>\n",
       "  </tbody>\n",
       "</table>\n",
       "</div>"
      ],
      "text/plain": [
       "                   0         1\n",
       "applause    0.448445  0.000000\n",
       "terrorists  0.201027  0.000000\n",
       "tonight     0.201027  0.000000\n",
       "world       0.187042  0.038269\n",
       "america     0.176040  0.002609"
      ]
     },
     "execution_count": 21,
     "metadata": {},
     "output_type": "execute_result"
    }
   ],
   "source": [
    "# Sort by most frequent word and display\n",
    "tfidfs = tfidfs.transpose()\n",
    "bush_topwords = tfidfs.sort_values(0,ascending=False)\n",
    "bush_topwords.head()"
   ]
  },
  {
   "cell_type": "code",
   "execution_count": 22,
   "metadata": {},
   "outputs": [],
   "source": [
    "# Calculate top 50\n",
    "bush_top50 = bush_topwords.index[:50]"
   ]
  },
  {
   "cell_type": "code",
   "execution_count": 23,
   "metadata": {},
   "outputs": [],
   "source": [
    "# Calculate top 25\n",
    "bush_top25 = bush_topwords.index[:25]"
   ]
  },
  {
   "cell_type": "code",
   "execution_count": 24,
   "metadata": {},
   "outputs": [
    {
     "name": "stdout",
     "output_type": "stream",
     "text": [
      "Stored 'bush_top50' (Index)\n",
      "Stored 'bush_top25' (Index)\n"
     ]
    }
   ],
   "source": [
    "# Store top 50 words and top 25 words of Bush speech\n",
    "%store bush_top50\n",
    "%store bush_top25"
   ]
  },
  {
   "cell_type": "markdown",
   "metadata": {},
   "source": [
    "## TF-IDF of Report"
   ]
  },
  {
   "cell_type": "code",
   "execution_count": 27,
   "metadata": {},
   "outputs": [],
   "source": [
    "# Perform TF-IDF\n",
    "vecs_commis = tfidf.fit_transform([str(commission_nohtml_filtered), str(moby_filtered)])"
   ]
  },
  {
   "cell_type": "code",
   "execution_count": 28,
   "metadata": {},
   "outputs": [
    {
     "data": {
      "text/plain": [
       "array([[1.        , 0.13346274],\n",
       "       [0.13346274, 1.        ]])"
      ]
     },
     "execution_count": 28,
     "metadata": {},
     "output_type": "execute_result"
    }
   ],
   "source": [
    "# Print correlation matrix\n",
    "corr_matrix = ((vecs_commis * vecs_commis.T).A)\n",
    "corr_matrix"
   ]
  },
  {
   "cell_type": "code",
   "execution_count": 29,
   "metadata": {},
   "outputs": [],
   "source": [
    "# Create data frame\n",
    "columns = [k for (v, k) in sorted((v, k)\n",
    "           for k, v in tfidf.vocabulary_.items())]\n",
    "tfidfs = pd.DataFrame(vecs_commis.todense(),\n",
    "                      columns=columns)"
   ]
  },
  {
   "cell_type": "code",
   "execution_count": 30,
   "metadata": {},
   "outputs": [
    {
     "data": {
      "text/html": [
       "<div>\n",
       "<style scoped>\n",
       "    .dataframe tbody tr th:only-of-type {\n",
       "        vertical-align: middle;\n",
       "    }\n",
       "\n",
       "    .dataframe tbody tr th {\n",
       "        vertical-align: top;\n",
       "    }\n",
       "\n",
       "    .dataframe thead th {\n",
       "        text-align: right;\n",
       "    }\n",
       "</style>\n",
       "<table border=\"1\" class=\"dataframe\">\n",
       "  <thead>\n",
       "    <tr style=\"text-align: right;\">\n",
       "      <th></th>\n",
       "      <th>0</th>\n",
       "      <th>1</th>\n",
       "    </tr>\n",
       "  </thead>\n",
       "  <tbody>\n",
       "    <tr>\n",
       "      <th>center</th>\n",
       "      <td>0.360955</td>\n",
       "      <td>0.000000</td>\n",
       "    </tr>\n",
       "    <tr>\n",
       "      <th>aircraft</th>\n",
       "      <td>0.354585</td>\n",
       "      <td>0.000000</td>\n",
       "    </tr>\n",
       "    <tr>\n",
       "      <th>faa</th>\n",
       "      <td>0.286641</td>\n",
       "      <td>0.000000</td>\n",
       "    </tr>\n",
       "    <tr>\n",
       "      <th>flight</th>\n",
       "      <td>0.211501</td>\n",
       "      <td>0.002062</td>\n",
       "    </tr>\n",
       "    <tr>\n",
       "      <th>american</th>\n",
       "      <td>0.190351</td>\n",
       "      <td>0.007789</td>\n",
       "    </tr>\n",
       "  </tbody>\n",
       "</table>\n",
       "</div>"
      ],
      "text/plain": [
       "                 0         1\n",
       "center    0.360955  0.000000\n",
       "aircraft  0.354585  0.000000\n",
       "faa       0.286641  0.000000\n",
       "flight    0.211501  0.002062\n",
       "american  0.190351  0.007789"
      ]
     },
     "execution_count": 30,
     "metadata": {},
     "output_type": "execute_result"
    }
   ],
   "source": [
    "# Sort by most frequent word and display\n",
    "tfidfs = tfidfs.transpose()\n",
    "commis_topwords = tfidfs.sort_values(0,ascending=False)\n",
    "commis_topwords.head()"
   ]
  },
  {
   "cell_type": "code",
   "execution_count": 31,
   "metadata": {},
   "outputs": [],
   "source": [
    "# Calculate top 50\n",
    "commis_top50 = commis_topwords.index[:50]"
   ]
  },
  {
   "cell_type": "code",
   "execution_count": 32,
   "metadata": {},
   "outputs": [],
   "source": [
    "# Calculate top 25\n",
    "commis_top25 = commis_topwords.index[:25]"
   ]
  },
  {
   "cell_type": "code",
   "execution_count": 33,
   "metadata": {},
   "outputs": [
    {
     "name": "stdout",
     "output_type": "stream",
     "text": [
      "Stored 'commis_top50' (Index)\n",
      "Stored 'commis_top25' (Index)\n"
     ]
    }
   ],
   "source": [
    "# Store top 50 words and top 25 words of report\n",
    "%store commis_top50\n",
    "%store commis_top25"
   ]
  }
 ],
 "metadata": {
  "kernelspec": {
   "display_name": "Python 3",
   "language": "python",
   "name": "python3"
  },
  "language_info": {
   "codemirror_mode": {
    "name": "ipython",
    "version": 3
   },
   "file_extension": ".py",
   "mimetype": "text/x-python",
   "name": "python",
   "nbconvert_exporter": "python",
   "pygments_lexer": "ipython3",
   "version": "3.8.5"
  }
 },
 "nbformat": 4,
 "nbformat_minor": 4
}
