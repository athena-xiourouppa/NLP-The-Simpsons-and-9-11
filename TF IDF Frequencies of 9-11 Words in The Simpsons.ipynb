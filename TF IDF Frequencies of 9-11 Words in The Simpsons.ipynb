{
 "cells": [
  {
   "cell_type": "markdown",
   "metadata": {},
   "source": [
    "# TFIDF Frequencies of 9-11 Words in The Simpsons"
   ]
  },
  {
   "cell_type": "code",
   "execution_count": 1,
   "metadata": {},
   "outputs": [],
   "source": [
    "# Load in top 50 lists\n",
    "%store -r commis_top50\n",
    "%store -r bush_top50"
   ]
  },
  {
   "cell_type": "code",
   "execution_count": 2,
   "metadata": {},
   "outputs": [
    {
     "name": "stdout",
     "output_type": "stream",
     "text": [
      "american\n",
      "united\n",
      "one\n",
      "new\n",
      "al\n",
      "us\n"
     ]
    }
   ],
   "source": [
    "# Search for common words in lists\n",
    "for c in commis_top50:\n",
    "    for b in bush_top50:\n",
    "        if c == b:\n",
    "            print(c)"
   ]
  },
  {
   "cell_type": "code",
   "execution_count": 3,
   "metadata": {},
   "outputs": [],
   "source": [
    "# Import pandas for data frame\n",
    "import pandas as pd"
   ]
  },
  {
   "cell_type": "code",
   "execution_count": 4,
   "metadata": {},
   "outputs": [
    {
     "data": {
      "text/html": [
       "<div>\n",
       "<style scoped>\n",
       "    .dataframe tbody tr th:only-of-type {\n",
       "        vertical-align: middle;\n",
       "    }\n",
       "\n",
       "    .dataframe tbody tr th {\n",
       "        vertical-align: top;\n",
       "    }\n",
       "\n",
       "    .dataframe thead th {\n",
       "        text-align: right;\n",
       "    }\n",
       "</style>\n",
       "<table border=\"1\" class=\"dataframe\">\n",
       "  <thead>\n",
       "    <tr style=\"text-align: right;\">\n",
       "      <th></th>\n",
       "      <th>raw_text</th>\n",
       "    </tr>\n",
       "  </thead>\n",
       "  <tbody>\n",
       "    <tr>\n",
       "      <th>0</th>\n",
       "      <td>ooo careful homer</td>\n",
       "    </tr>\n",
       "    <tr>\n",
       "      <th>1</th>\n",
       "      <td>theres no time to be careful</td>\n",
       "    </tr>\n",
       "    <tr>\n",
       "      <th>2</th>\n",
       "      <td>were late</td>\n",
       "    </tr>\n",
       "    <tr>\n",
       "      <th>3</th>\n",
       "      <td>hushed voice sorry excuse us pardon me</td>\n",
       "    </tr>\n",
       "    <tr>\n",
       "      <th>4</th>\n",
       "      <td>simultaneously hey norman hows it going so yo...</td>\n",
       "    </tr>\n",
       "  </tbody>\n",
       "</table>\n",
       "</div>"
      ],
      "text/plain": [
       "                                            raw_text\n",
       "0                                  ooo careful homer\n",
       "1                       theres no time to be careful\n",
       "2                                          were late\n",
       "3             hushed voice sorry excuse us pardon me\n",
       "4   simultaneously hey norman hows it going so yo..."
      ]
     },
     "execution_count": 4,
     "metadata": {},
     "output_type": "execute_result"
    }
   ],
   "source": [
    "# Read in cleaned .csv file and convert to data frame\n",
    "simpsons_script = pd.read_csv(\"simpsons_df_fixed.csv\")['raw_text']\n",
    "simpsons_script = simpsons_script.to_frame()\n",
    "simpsons_script.head()"
   ]
  },
  {
   "cell_type": "code",
   "execution_count": 5,
   "metadata": {},
   "outputs": [],
   "source": [
    "# Combine lists\n",
    "combo_list = list(bush_top50) + list(commis_top50)"
   ]
  },
  {
   "cell_type": "code",
   "execution_count": 6,
   "metadata": {},
   "outputs": [],
   "source": [
    "# Import word tokenizer\n",
    "from nltk import word_tokenize"
   ]
  },
  {
   "cell_type": "code",
   "execution_count": 7,
   "metadata": {},
   "outputs": [],
   "source": [
    "# Define function for counting frequency of unigram (assuming line not tokenized)\n",
    "def unigram_counter(line_to_count, word_list):\n",
    "    # Tokenize\n",
    "    line = word_tokenize(line_to_count)\n",
    "    \n",
    "    # Initialise counter\n",
    "    count = 0\n",
    "    \n",
    "    # Iterate through list for word\n",
    "    for i in range(len(line)):\n",
    "        for j in range(len(word_list)):\n",
    "            if line[i] == word_list[j]:\n",
    "                #print(word_list[j])\n",
    "                count += 1\n",
    "    return count"
   ]
  },
  {
   "cell_type": "code",
   "execution_count": 8,
   "metadata": {},
   "outputs": [],
   "source": [
    "# Create column of frequencies of top 50 words\n",
    "simpsons_script['9/11 Words TFIDF Top 50'] = [unigram_counter(simpsons_script.iloc[i][0], combo_list) for i in range(len(simpsons_script))]"
   ]
  },
  {
   "cell_type": "code",
   "execution_count": 9,
   "metadata": {},
   "outputs": [
    {
     "data": {
      "text/html": [
       "<div>\n",
       "<style scoped>\n",
       "    .dataframe tbody tr th:only-of-type {\n",
       "        vertical-align: middle;\n",
       "    }\n",
       "\n",
       "    .dataframe tbody tr th {\n",
       "        vertical-align: top;\n",
       "    }\n",
       "\n",
       "    .dataframe thead th {\n",
       "        text-align: right;\n",
       "    }\n",
       "</style>\n",
       "<table border=\"1\" class=\"dataframe\">\n",
       "  <thead>\n",
       "    <tr style=\"text-align: right;\">\n",
       "      <th></th>\n",
       "      <th>raw_text</th>\n",
       "      <th>9/11 Words TFIDF Top 50</th>\n",
       "    </tr>\n",
       "  </thead>\n",
       "  <tbody>\n",
       "    <tr>\n",
       "      <th>81205</th>\n",
       "      <td>i want you to overhype this story so much it ...</td>\n",
       "      <td>18</td>\n",
       "    </tr>\n",
       "    <tr>\n",
       "      <th>937</th>\n",
       "      <td>chants one of us one of us one of us one of us</td>\n",
       "      <td>16</td>\n",
       "    </tr>\n",
       "    <tr>\n",
       "      <th>27570</th>\n",
       "      <td>fight fight fight fight fight fight fight fig...</td>\n",
       "      <td>13</td>\n",
       "    </tr>\n",
       "    <tr>\n",
       "      <th>42126</th>\n",
       "      <td>i have a buck i have one dollar one dollar he...</td>\n",
       "      <td>10</td>\n",
       "    </tr>\n",
       "    <tr>\n",
       "      <th>80028</th>\n",
       "      <td>one slingshot one pack of cards baseball one ...</td>\n",
       "      <td>10</td>\n",
       "    </tr>\n",
       "    <tr>\n",
       "      <th>...</th>\n",
       "      <td>...</td>\n",
       "      <td>...</td>\n",
       "    </tr>\n",
       "    <tr>\n",
       "      <th>49574</th>\n",
       "      <td>into phone woo hoo hangs up marge they found ...</td>\n",
       "      <td>0</td>\n",
       "    </tr>\n",
       "    <tr>\n",
       "      <th>49573</th>\n",
       "      <td>in crowd dibs on the liver</td>\n",
       "      <td>0</td>\n",
       "    </tr>\n",
       "    <tr>\n",
       "      <th>49572</th>\n",
       "      <td>all right now lets get this carcass over to t...</td>\n",
       "      <td>0</td>\n",
       "    </tr>\n",
       "    <tr>\n",
       "      <th>49571</th>\n",
       "      <td>hiyo</td>\n",
       "      <td>0</td>\n",
       "    </tr>\n",
       "    <tr>\n",
       "      <th>132111</th>\n",
       "      <td>sky police</td>\n",
       "      <td>0</td>\n",
       "    </tr>\n",
       "  </tbody>\n",
       "</table>\n",
       "<p>132112 rows × 2 columns</p>\n",
       "</div>"
      ],
      "text/plain": [
       "                                                 raw_text  \\\n",
       "81205    i want you to overhype this story so much it ...   \n",
       "937        chants one of us one of us one of us one of us   \n",
       "27570    fight fight fight fight fight fight fight fig...   \n",
       "42126    i have a buck i have one dollar one dollar he...   \n",
       "80028    one slingshot one pack of cards baseball one ...   \n",
       "...                                                   ...   \n",
       "49574    into phone woo hoo hangs up marge they found ...   \n",
       "49573                          in crowd dibs on the liver   \n",
       "49572    all right now lets get this carcass over to t...   \n",
       "49571                                                hiyo   \n",
       "132111                                         sky police   \n",
       "\n",
       "        9/11 Words TFIDF Top 50  \n",
       "81205                        18  \n",
       "937                          16  \n",
       "27570                        13  \n",
       "42126                        10  \n",
       "80028                        10  \n",
       "...                         ...  \n",
       "49574                         0  \n",
       "49573                         0  \n",
       "49572                         0  \n",
       "49571                         0  \n",
       "132111                        0  \n",
       "\n",
       "[132112 rows x 2 columns]"
      ]
     },
     "execution_count": 9,
     "metadata": {},
     "output_type": "execute_result"
    }
   ],
   "source": [
    "# Display in ascending order\n",
    "simpsons_script.sort_values(['9/11 Words TFIDF Top 50'], ascending = False)"
   ]
  },
  {
   "cell_type": "code",
   "execution_count": 10,
   "metadata": {},
   "outputs": [
    {
     "data": {
      "text/plain": [
       "0.33560918008962093"
      ]
     },
     "execution_count": 10,
     "metadata": {},
     "output_type": "execute_result"
    }
   ],
   "source": [
    "# Obtain mean value for top 50 count\n",
    "import statistics\n",
    "statistics.mean(simpsons_script['9/11 Words TFIDF Top 50'])"
   ]
  },
  {
   "cell_type": "code",
   "execution_count": 11,
   "metadata": {},
   "outputs": [],
   "source": [
    "# Import package for displaying package\n",
    "import matplotlib.pyplot as plt"
   ]
  },
  {
   "cell_type": "code",
   "execution_count": 14,
   "metadata": {},
   "outputs": [],
   "source": [
    "# Import dictionary of line to year mapping\n",
    "%store -r line_year"
   ]
  },
  {
   "cell_type": "code",
   "execution_count": 94,
   "metadata": {},
   "outputs": [],
   "source": [
    "# Import package for converting vector to dictionary\n",
    "import operator\n",
    "from operator import itemgetter"
   ]
  },
  {
   "cell_type": "code",
   "execution_count": 96,
   "metadata": {},
   "outputs": [
    {
     "data": {
      "image/png": "[encoded data removed]",
      "text/plain": [
       "<Figure size 432x288 with 1 Axes>"
      ]
     },
     "metadata": {
      "needs_background": "light"
     },
     "output_type": "display_data"
    }
   ],
   "source": [
    "# Plot frequency over time\n",
    "fig, ax = plt.subplots()\n",
    "\n",
    "plt.plot(range(len(simpsons_script.index+1)), simpsons_script['9/11 Words TFIDF Top 50'])\n",
    "\n",
    "plt.xlabel(\"Year\")\n",
    "ax.set_xticks((0,20000,40000,60000,80000,100000,120000))\n",
    "ax.set_xticklabels(itemgetter(0,20000,40000,60000,80000,100000,120000)(line_year))\n",
    "\n",
    "plt.ylabel(\"Frequency\")\n",
    "plt.savefig('lines_911_tfidf_top50auto.png')\n",
    "plt.show()"
   ]
  },
  {
   "cell_type": "code",
   "execution_count": 97,
   "metadata": {},
   "outputs": [],
   "source": [
    "# Import Top 25 from each\n",
    "%store -r bush_top25\n",
    "%store -r commis_top25"
   ]
  },
  {
   "cell_type": "code",
   "execution_count": 98,
   "metadata": {},
   "outputs": [],
   "source": [
    "combo_list_top25 = list(bush_top25) + list(commis_top25)"
   ]
  },
  {
   "cell_type": "code",
   "execution_count": 99,
   "metadata": {},
   "outputs": [],
   "source": [
    "# Create column of frequencies of top 25 words\n",
    "simpsons_script['9/11 Words TFIDF Top 25'] = [unigram_counter(simpsons_script.iloc[i][0], combo_list_top25) for i in range(len(simpsons_script))]"
   ]
  },
  {
   "cell_type": "code",
   "execution_count": 100,
   "metadata": {},
   "outputs": [
    {
     "data": {
      "text/html": [
       "<div>\n",
       "<style scoped>\n",
       "    .dataframe tbody tr th:only-of-type {\n",
       "        vertical-align: middle;\n",
       "    }\n",
       "\n",
       "    .dataframe tbody tr th {\n",
       "        vertical-align: top;\n",
       "    }\n",
       "\n",
       "    .dataframe thead th {\n",
       "        text-align: right;\n",
       "    }\n",
       "</style>\n",
       "<table border=\"1\" class=\"dataframe\">\n",
       "  <thead>\n",
       "    <tr style=\"text-align: right;\">\n",
       "      <th></th>\n",
       "      <th>raw_text</th>\n",
       "      <th>9/11 Words TFIDF Top 50</th>\n",
       "      <th>9/11 Words TFIDF Top 25</th>\n",
       "    </tr>\n",
       "  </thead>\n",
       "  <tbody>\n",
       "    <tr>\n",
       "      <th>937</th>\n",
       "      <td>chants one of us one of us one of us one of us</td>\n",
       "      <td>16</td>\n",
       "      <td>8</td>\n",
       "    </tr>\n",
       "    <tr>\n",
       "      <th>5416</th>\n",
       "      <td>now let me start by saying good for you son i...</td>\n",
       "      <td>7</td>\n",
       "      <td>7</td>\n",
       "    </tr>\n",
       "    <tr>\n",
       "      <th>1397</th>\n",
       "      <td>ladies and gentlemen boys and girls contrary ...</td>\n",
       "      <td>8</td>\n",
       "      <td>7</td>\n",
       "    </tr>\n",
       "    <tr>\n",
       "      <th>27872</th>\n",
       "      <td>hello americans paul harvey here did you know...</td>\n",
       "      <td>7</td>\n",
       "      <td>7</td>\n",
       "    </tr>\n",
       "    <tr>\n",
       "      <th>121898</th>\n",
       "      <td>bingo antique bayonets im talking world war o...</td>\n",
       "      <td>7</td>\n",
       "      <td>6</td>\n",
       "    </tr>\n",
       "    <tr>\n",
       "      <th>...</th>\n",
       "      <td>...</td>\n",
       "      <td>...</td>\n",
       "      <td>...</td>\n",
       "    </tr>\n",
       "    <tr>\n",
       "      <th>47081</th>\n",
       "      <td>lying weakly its my first day</td>\n",
       "      <td>1</td>\n",
       "      <td>0</td>\n",
       "    </tr>\n",
       "    <tr>\n",
       "      <th>47080</th>\n",
       "      <td>you did this how could you be so irresponsible</td>\n",
       "      <td>0</td>\n",
       "      <td>0</td>\n",
       "    </tr>\n",
       "    <tr>\n",
       "      <th>47079</th>\n",
       "      <td>success</td>\n",
       "      <td>0</td>\n",
       "      <td>0</td>\n",
       "    </tr>\n",
       "    <tr>\n",
       "      <th>47078</th>\n",
       "      <td>uh sir weve found the problem some idiot thre...</td>\n",
       "      <td>0</td>\n",
       "      <td>0</td>\n",
       "    </tr>\n",
       "    <tr>\n",
       "      <th>132111</th>\n",
       "      <td>sky police</td>\n",
       "      <td>0</td>\n",
       "      <td>0</td>\n",
       "    </tr>\n",
       "  </tbody>\n",
       "</table>\n",
       "<p>132112 rows × 3 columns</p>\n",
       "</div>"
      ],
      "text/plain": [
       "                                                 raw_text  \\\n",
       "937        chants one of us one of us one of us one of us   \n",
       "5416     now let me start by saying good for you son i...   \n",
       "1397     ladies and gentlemen boys and girls contrary ...   \n",
       "27872    hello americans paul harvey here did you know...   \n",
       "121898   bingo antique bayonets im talking world war o...   \n",
       "...                                                   ...   \n",
       "47081                       lying weakly its my first day   \n",
       "47080      you did this how could you be so irresponsible   \n",
       "47079                                             success   \n",
       "47078    uh sir weve found the problem some idiot thre...   \n",
       "132111                                         sky police   \n",
       "\n",
       "        9/11 Words TFIDF Top 50  9/11 Words TFIDF Top 25  \n",
       "937                          16                        8  \n",
       "5416                          7                        7  \n",
       "1397                          8                        7  \n",
       "27872                         7                        7  \n",
       "121898                        7                        6  \n",
       "...                         ...                      ...  \n",
       "47081                         1                        0  \n",
       "47080                         0                        0  \n",
       "47079                         0                        0  \n",
       "47078                         0                        0  \n",
       "132111                        0                        0  \n",
       "\n",
       "[132112 rows x 3 columns]"
      ]
     },
     "execution_count": 100,
     "metadata": {},
     "output_type": "execute_result"
    }
   ],
   "source": [
    "# Display in ascending order\n",
    "simpsons_script.sort_values(['9/11 Words TFIDF Top 25'], ascending = False)"
   ]
  },
  {
   "cell_type": "code",
   "execution_count": 101,
   "metadata": {},
   "outputs": [
    {
     "data": {
      "text/plain": [
       "0.15003936054256994"
      ]
     },
     "execution_count": 101,
     "metadata": {},
     "output_type": "execute_result"
    }
   ],
   "source": [
    "# Obtain mean value for top 25 count\n",
    "statistics.mean(simpsons_script['9/11 Words TFIDF Top 25'])"
   ]
  },
  {
   "cell_type": "code",
   "execution_count": 102,
   "metadata": {},
   "outputs": [
    {
     "data": {
      "image/png": "[encoded data removed]",
      "text/plain": [
       "<Figure size 432x288 with 1 Axes>"
      ]
     },
     "metadata": {
      "needs_background": "light"
     },
     "output_type": "display_data"
    }
   ],
   "source": [
    "# Plot frequency over time\n",
    "fig, ax = plt.subplots()\n",
    "\n",
    "plt.plot(range(len(simpsons_script.index+1)), simpsons_script['9/11 Words TFIDF Top 25'])\n",
    "\n",
    "plt.xlabel(\"Year\")\n",
    "ax.set_xticks((0,20000,40000,60000,80000,100000,120000))\n",
    "ax.set_xticklabels(itemgetter(0,20000,40000,60000,80000,100000,120000)(line_year))\n",
    "\n",
    "plt.ylabel(\"Frequency\")\n",
    "plt.savefig('lines_911_tfidf_top25auto.png')\n",
    "plt.show()"
   ]
  },
  {
   "cell_type": "markdown",
   "metadata": {},
   "source": [
    "## Manually remove words from frequency list"
   ]
  },
  {
   "cell_type": "code",
   "execution_count": 106,
   "metadata": {},
   "outputs": [],
   "source": [
    "# Define list of unwanted words (see report for details)\n",
    "unwanted = ['applause','tonight','world','every','us','many','people','country',\n",
    "'great','ask', 'come','together','seen','thank','may','one','strengthen','asking',\n",
    "'want','new','forget','lives','end','known','center','flight','would','plane', 'minutes',\n",
    "'first','told','time', 'call', 'white','house']"
   ]
  },
  {
   "cell_type": "code",
   "execution_count": 107,
   "metadata": {},
   "outputs": [],
   "source": [
    "# Filter unwanted out of word list\n",
    "manual_list_50 = []\n",
    "\n",
    "for word in combo_list:\n",
    "    if word not in unwanted:\n",
    "        manual_list_50.append(word)"
   ]
  },
  {
   "cell_type": "code",
   "execution_count": 111,
   "metadata": {},
   "outputs": [],
   "source": [
    "# Filter unwanted out of word list\n",
    "manual_list_25 = []\n",
    "\n",
    "for word in combo_list_top25:\n",
    "    if word not in unwanted:\n",
    "        manual_list_25.append(word)"
   ]
  },
  {
   "cell_type": "code",
   "execution_count": 114,
   "metadata": {},
   "outputs": [],
   "source": [
    "# Create column of frequencies of top 50 manually cleaned words\n",
    "simpsons_script['9/11 Words TFIDF Top 50 Manual'] = [unigram_counter(simpsons_script.iloc[i][0], manual_list_50) for i in range(len(simpsons_script))]"
   ]
  },
  {
   "cell_type": "code",
   "execution_count": 115,
   "metadata": {},
   "outputs": [
    {
     "data": {
      "text/plain": [
       "0.023351398813128255"
      ]
     },
     "execution_count": 115,
     "metadata": {},
     "output_type": "execute_result"
    }
   ],
   "source": [
    "# Take average\n",
    "statistics.mean(simpsons_script['9/11 Words TFIDF Top 50 Manual'])"
   ]
  },
  {
   "cell_type": "code",
   "execution_count": 117,
   "metadata": {},
   "outputs": [
    {
     "data": {
      "image/png": "[encoded data removed]",
      "text/plain": [
       "<Figure size 432x288 with 1 Axes>"
      ]
     },
     "metadata": {
      "needs_background": "light"
     },
     "output_type": "display_data"
    }
   ],
   "source": [
    "# Plot\n",
    "fig, ax = plt.subplots()\n",
    "\n",
    "plt.plot(range(len(simpsons_script.index+1)), simpsons_script['9/11 Words TFIDF Top 50 Manual'])\n",
    "\n",
    "plt.xlabel(\"Year\")\n",
    "ax.set_xticks((0,20000,40000,60000,80000,100000,120000))\n",
    "ax.set_xticklabels(itemgetter(0,20000,40000,60000,80000,100000,120000)(line_year))\n",
    "\n",
    "plt.ylabel(\"Frequency\")\n",
    "plt.savefig('lines_911_tfidf_top50manual.png')\n",
    "plt.show()"
   ]
  },
  {
   "cell_type": "code",
   "execution_count": 124,
   "metadata": {},
   "outputs": [],
   "source": [
    "# Create column of frequencies of top 25 manually cleaned words\n",
    "simpsons_script['9/11 Words TFIDF Top 25 Manual'] = [unigram_counter(simpsons_script.iloc[i][0], manual_list_25) for i in range(len(simpsons_script))]"
   ]
  },
  {
   "cell_type": "code",
   "execution_count": 125,
   "metadata": {},
   "outputs": [
    {
     "data": {
      "text/plain": [
       "0.015138670219207945"
      ]
     },
     "execution_count": 125,
     "metadata": {},
     "output_type": "execute_result"
    }
   ],
   "source": [
    "# Take average\n",
    "statistics.mean(simpsons_script['9/11 Words TFIDF Top 25 Manual'])"
   ]
  },
  {
   "cell_type": "code",
   "execution_count": 126,
   "metadata": {},
   "outputs": [
    {
     "data": {
      "image/png": "[encoded data removed]",
      "text/plain": [
       "<Figure size 432x288 with 1 Axes>"
      ]
     },
     "metadata": {
      "needs_background": "light"
     },
     "output_type": "display_data"
    }
   ],
   "source": [
    "# Plot\n",
    "fig, ax = plt.subplots()\n",
    "\n",
    "plt.plot(range(len(simpsons_script.index+1)), simpsons_script['9/11 Words TFIDF Top 25 Manual'])\n",
    "\n",
    "plt.xlabel(\"Year\")\n",
    "ax.set_xticks((0,20000,40000,60000,80000,100000,120000))\n",
    "ax.set_xticklabels(itemgetter(0,20000,40000,60000,80000,100000,120000)(line_year))\n",
    "\n",
    "plt.ylabel(\"Frequency\")\n",
    "plt.savefig('lines_911_tfidf_top25manual.png')\n",
    "plt.show()"
   ]
  },
  {
   "cell_type": "code",
   "execution_count": null,
   "metadata": {},
   "outputs": [],
   "source": []
  }
 ],
 "metadata": {
  "kernelspec": {
   "display_name": "Python 3",
   "language": "python",
   "name": "python3"
  },
  "language_info": {
   "codemirror_mode": {
    "name": "ipython",
    "version": 3
   },
   "file_extension": ".py",
   "mimetype": "text/x-python",
   "name": "python",
   "nbconvert_exporter": "python",
   "pygments_lexer": "ipython3",
   "version": "3.8.5"
  }
 },
 "nbformat": 4,
 "nbformat_minor": 4
}
